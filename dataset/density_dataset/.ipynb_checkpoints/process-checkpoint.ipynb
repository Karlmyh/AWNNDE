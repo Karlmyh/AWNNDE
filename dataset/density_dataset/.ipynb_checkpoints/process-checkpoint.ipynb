{
 "cells": [
  {
   "cell_type": "code",
   "execution_count": 35,
   "id": "f0d3fe83",
   "metadata": {},
   "outputs": [],
   "source": [
    "import pandas as pd\n",
    "\n",
    "dataset_seq=[\"lympho\",\"cardio\",\"thyroid\",\"vowels\",\"glass\",\"musk\",\"letter\",\"pima\",\"satellite\",\"pendigits\"]\n",
    "\n",
    "for dataset in dataset_seq:\n",
    "    file_path = \"../anomaly/{}.csv\".format(dataset)\n",
    "    data = pd.read_csv(file_path,delimiter=\",\",header=None)\n",
    "    data=data.drop(columns=data.shape[1]-1)\n",
    "    data.to_csv(\"./glass.csv\".format(dataset),columns=None)"
   ]
  },
  {
   "cell_type": "code",
   "execution_count": null,
   "id": "da7fd4bf",
   "metadata": {},
   "outputs": [],
   "source": []
  },
  {
   "cell_type": "code",
   "execution_count": null,
   "id": "a0dc47ef",
   "metadata": {},
   "outputs": [],
   "source": []
  },
  {
   "cell_type": "code",
   "execution_count": null,
   "id": "097ba431",
   "metadata": {},
   "outputs": [],
   "source": []
  },
  {
   "cell_type": "code",
   "execution_count": null,
   "id": "4a157fd1",
   "metadata": {},
   "outputs": [],
   "source": []
  }
 ],
 "metadata": {
  "kernelspec": {
   "display_name": "Python 3 (ipykernel)",
   "language": "python",
   "name": "python3"
  },
  "language_info": {
   "codemirror_mode": {
    "name": "ipython",
    "version": 3
   },
   "file_extension": ".py",
   "mimetype": "text/x-python",
   "name": "python",
   "nbconvert_exporter": "python",
   "pygments_lexer": "ipython3",
   "version": "3.8.2"
  }
 },
 "nbformat": 4,
 "nbformat_minor": 5
}

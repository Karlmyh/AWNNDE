{
 "cells": [
  {
   "cell_type": "code",
   "execution_count": 37,
   "id": "b55a3c1a",
   "metadata": {},
   "outputs": [],
   "source": [
    "import pandas as pd\n",
    "\n",
    "dataset_seq=[\"lympho\",\"cardio\",\"thyroid\",\"vowels\",\"glass\",\"musk\",\"letter\",\"pima\",\"satellite\",\"pendigits\"]\n",
    "\n",
    "for dataset in dataset_seq:\n",
    "    file_path = \"../anomaly/{}.csv\".format(dataset)\n",
    "    data = pd.read_csv(file_path,delimiter=\",\",header=None)\n",
    "    data=data.drop(columns=data.shape[1]-1)\n",
    "    data.to_csv(\"./{}.csv\".format(dataset),columns=None)"
   ]
  },
  {
   "cell_type": "code",
   "execution_count": null,
   "id": "47526fa1",
   "metadata": {},
   "outputs": [],
   "source": []
  },
  {
   "cell_type": "code",
   "execution_count": null,
   "id": "6dff4696",
   "metadata": {},
   "outputs": [],
   "source": []
  },
  {
   "cell_type": "code",
   "execution_count": null,
   "id": "decc6e47",
   "metadata": {},
   "outputs": [],
   "source": []
  },
  {
   "cell_type": "code",
   "execution_count": null,
   "id": "abfa32a5",
   "metadata": {},
   "outputs": [],
   "source": []
  }
 ],
 "metadata": {
  "kernelspec": {
   "display_name": "Python 3 (ipykernel)",
   "language": "python",
   "name": "python3"
  },
  "language_info": {
   "codemirror_mode": {
    "name": "ipython",
    "version": 3
   },
   "file_extension": ".py",
   "mimetype": "text/x-python",
   "name": "python",
   "nbconvert_exporter": "python",
   "pygments_lexer": "ipython3",
   "version": "3.8.2"
  }
 },
 "nbformat": 4,
 "nbformat_minor": 5
}

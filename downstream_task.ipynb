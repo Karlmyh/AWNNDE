{
 "cells": [
  {
   "cell_type": "code",
   "execution_count": 4,
   "id": "64140150",
   "metadata": {},
   "outputs": [],
   "source": [
    "from IPython.core.interactiveshell import InteractiveShell\n",
    "InteractiveShell.ast_node_interactivity = \"all\"\n",
    "\n",
    "import numpy as np\n",
    "import time\n",
    "import math\n",
    "import matplotlib\n",
    "import matplotlib.pyplot as plt\n",
    "import seaborn as sns\n",
    "import pandas as pd\n",
    "from mpl_toolkits.mplot3d import Axes3D\n",
    "from matplotlib import cm\n",
    "from matplotlib.ticker import LinearLocator, FormatStrFormatter\n",
    "\n",
    "\n",
    "from AWNN import AWNN\n",
    "from KNN import KNN \n",
    "from AKDE import AKDE\n",
    "from sklearn.neighbors import KernelDensity\n",
    "\n",
    "from synthetic_distributions import TestDistribution\n"
   ]
  },
  {
   "cell_type": "markdown",
   "id": "88f6b380",
   "metadata": {},
   "source": [
    "## Geology Inference"
   ]
  },
  {
   "cell_type": "code",
   "execution_count": null,
   "id": "d1312b70",
   "metadata": {},
   "outputs": [],
   "source": []
  },
  {
   "cell_type": "code",
   "execution_count": 5,
   "id": "9ebbcc96",
   "metadata": {},
   "outputs": [],
   "source": [
    "log_file_dir=\"./dataset/earthquake\"\n",
    "log_file_name=\"query\"\n",
    "log = pd.read_csv(\"{}/{}.csv\".format(log_file_dir,log_file_name))  \n",
    "X_train=pd.DataFrame(log,columns=[\"longitude\",\"latitude\"]).to_numpy()"
   ]
  },
  {
   "cell_type": "code",
   "execution_count": 11,
   "id": "a36737df",
   "metadata": {},
   "outputs": [
    {
     "ename": "ValueError",
     "evalue": "The truth value of an array with more than one element is ambiguous. Use a.any() or a.all()",
     "output_type": "error",
     "traceback": [
      "\u001b[0;31m---------------------------------------------------------------------------\u001b[0m",
      "\u001b[0;31mValueError\u001b[0m                                Traceback (most recent call last)",
      "\u001b[0;32m/var/folders/xd/hvhjp1lx2qb7swy9ch3nz92r0000gn/T/ipykernel_58526/3101392899.py\u001b[0m in \u001b[0;36m<module>\u001b[0;34m\u001b[0m\n\u001b[1;32m     16\u001b[0m \u001b[0;31m# KNN\u001b[0m\u001b[0;34m\u001b[0m\u001b[0;34m\u001b[0m\u001b[0;34m\u001b[0m\u001b[0m\n\u001b[1;32m     17\u001b[0m \u001b[0mmodel_KNN\u001b[0m\u001b[0;34m=\u001b[0m\u001b[0mKNN\u001b[0m\u001b[0;34m(\u001b[0m\u001b[0mk\u001b[0m\u001b[0;34m=\u001b[0m\u001b[0;36m30\u001b[0m\u001b[0;34m)\u001b[0m\u001b[0;34m.\u001b[0m\u001b[0mfit\u001b[0m\u001b[0;34m(\u001b[0m\u001b[0mX_train\u001b[0m\u001b[0;34m,\u001b[0m\u001b[0mmethod\u001b[0m\u001b[0;34m=\u001b[0m\u001b[0;34m\"BKNN\"\u001b[0m\u001b[0;34m)\u001b[0m\u001b[0;34m\u001b[0m\u001b[0;34m\u001b[0m\u001b[0m\n\u001b[0;32m---> 18\u001b[0;31m \u001b[0mest_KNN\u001b[0m\u001b[0;34m=\u001b[0m\u001b[0mnp\u001b[0m\u001b[0;34m.\u001b[0m\u001b[0mexp\u001b[0m\u001b[0;34m(\u001b[0m\u001b[0mmodel_KNN\u001b[0m\u001b[0;34m.\u001b[0m\u001b[0mpredict\u001b[0m\u001b[0;34m(\u001b[0m\u001b[0mX_test\u001b[0m\u001b[0;34m)\u001b[0m\u001b[0;34m.\u001b[0m\u001b[0mreshape\u001b[0m\u001b[0;34m(\u001b[0m\u001b[0;34m-\u001b[0m\u001b[0;36m1\u001b[0m\u001b[0;34m,\u001b[0m\u001b[0mn_test\u001b[0m\u001b[0;34m)\u001b[0m\u001b[0;34m)\u001b[0m\u001b[0;34m\u001b[0m\u001b[0;34m\u001b[0m\u001b[0m\n\u001b[0m\u001b[1;32m     19\u001b[0m \u001b[0;31m# WKNN\u001b[0m\u001b[0;34m\u001b[0m\u001b[0;34m\u001b[0m\u001b[0;34m\u001b[0m\u001b[0m\n\u001b[1;32m     20\u001b[0m \u001b[0mmodel_WKNN\u001b[0m\u001b[0;34m=\u001b[0m\u001b[0mKNN\u001b[0m\u001b[0;34m(\u001b[0m\u001b[0mk\u001b[0m\u001b[0;34m=\u001b[0m\u001b[0;36m30\u001b[0m\u001b[0;34m)\u001b[0m\u001b[0;34m.\u001b[0m\u001b[0mfit\u001b[0m\u001b[0;34m(\u001b[0m\u001b[0mX_train\u001b[0m\u001b[0;34m,\u001b[0m\u001b[0mmethod\u001b[0m\u001b[0;34m=\u001b[0m\u001b[0;34m\"WKNN\"\u001b[0m\u001b[0;34m)\u001b[0m\u001b[0;34m\u001b[0m\u001b[0;34m\u001b[0m\u001b[0m\n",
      "\u001b[0;32m~/Documents/GitHub/AdaptiveKNN/KNN/_KNN.py\u001b[0m in \u001b[0;36mpredict\u001b[0;34m(self, X, y)\u001b[0m\n\u001b[1;32m    301\u001b[0m             \u001b[0mLog\u001b[0m\u001b[0;34m-\u001b[0m\u001b[0mlikelihood\u001b[0m \u001b[0mof\u001b[0m \u001b[0meach\u001b[0m \u001b[0msample\u001b[0m \u001b[0;32min\u001b[0m\u001b[0;31m \u001b[0m\u001b[0;31m`\u001b[0m\u001b[0mX\u001b[0m\u001b[0;31m`\u001b[0m\u001b[0;34m.\u001b[0m\u001b[0;34m\u001b[0m\u001b[0;34m\u001b[0m\u001b[0m\n\u001b[1;32m    302\u001b[0m         \"\"\"\n\u001b[0;32m--> 303\u001b[0;31m         \u001b[0mself\u001b[0m\u001b[0;34m.\u001b[0m\u001b[0mlog_density\u001b[0m\u001b[0;34m=\u001b[0m\u001b[0mself\u001b[0m\u001b[0;34m.\u001b[0m\u001b[0mscore_samples\u001b[0m\u001b[0;34m(\u001b[0m\u001b[0mX\u001b[0m\u001b[0;34m)\u001b[0m\u001b[0;34m\u001b[0m\u001b[0;34m\u001b[0m\u001b[0m\n\u001b[0m\u001b[1;32m    304\u001b[0m         \u001b[0;32mreturn\u001b[0m \u001b[0mself\u001b[0m\u001b[0;34m.\u001b[0m\u001b[0mlog_density\u001b[0m\u001b[0;34m\u001b[0m\u001b[0;34m\u001b[0m\u001b[0m\n\u001b[1;32m    305\u001b[0m \u001b[0;34m\u001b[0m\u001b[0m\n",
      "\u001b[0;32m~/Documents/GitHub/AdaptiveKNN/KNN/_KNN.py\u001b[0m in \u001b[0;36mscore_samples\u001b[0;34m(self, X)\u001b[0m\n\u001b[1;32m    277\u001b[0m                     \u001b[0;34m\"C2\"\u001b[0m\u001b[0;34m:\u001b[0m\u001b[0mself\u001b[0m\u001b[0;34m.\u001b[0m\u001b[0mC2\u001b[0m\u001b[0;34m,\u001b[0m\u001b[0;34m\u001b[0m\u001b[0;34m\u001b[0m\u001b[0m\n\u001b[1;32m    278\u001b[0m                     \"C\":self.C}\n\u001b[0;32m--> 279\u001b[0;31m             log_density=bknn(X,self.tree_,self.n_train_,self.dim_,\n\u001b[0m\u001b[1;32m    280\u001b[0m                             self.vol_unitball_,**kwargs)\n\u001b[1;32m    281\u001b[0m         \u001b[0;32melse\u001b[0m\u001b[0;34m:\u001b[0m\u001b[0;34m\u001b[0m\u001b[0;34m\u001b[0m\u001b[0m\n",
      "\u001b[0;32m~/Documents/GitHub/AdaptiveKNN/KNN/_NNAlgorithms.py\u001b[0m in \u001b[0;36mbknn\u001b[0;34m(X, tree, n, dim, vol_unitball, **kwargs)\u001b[0m\n\u001b[1;32m    215\u001b[0m \u001b[0;34m\u001b[0m\u001b[0m\n\u001b[1;32m    216\u001b[0m         \u001b[0mdistance_vec\u001b[0m\u001b[0;34m,\u001b[0m\u001b[0m_\u001b[0m\u001b[0;34m=\u001b[0m\u001b[0mtree\u001b[0m\u001b[0;34m.\u001b[0m\u001b[0mquery\u001b[0m\u001b[0;34m(\u001b[0m\u001b[0mx\u001b[0m\u001b[0;34m.\u001b[0m\u001b[0mreshape\u001b[0m\u001b[0;34m(\u001b[0m\u001b[0;36m1\u001b[0m\u001b[0;34m,\u001b[0m\u001b[0;34m-\u001b[0m\u001b[0;36m1\u001b[0m\u001b[0;34m)\u001b[0m\u001b[0;34m,\u001b[0m\u001b[0mkwargs\u001b[0m\u001b[0;34m[\u001b[0m\u001b[0;34m\"kmax\"\u001b[0m\u001b[0;34m]\u001b[0m\u001b[0;34m)\u001b[0m\u001b[0;34m\u001b[0m\u001b[0;34m\u001b[0m\u001b[0m\n\u001b[0;32m--> 217\u001b[0;31m         \u001b[0;32mif\u001b[0m \u001b[0mdistance_vec\u001b[0m\u001b[0;34m[\u001b[0m\u001b[0;36m0\u001b[0m\u001b[0;34m]\u001b[0m\u001b[0;34m==\u001b[0m\u001b[0;36m0\u001b[0m\u001b[0;34m:\u001b[0m\u001b[0;34m\u001b[0m\u001b[0;34m\u001b[0m\u001b[0m\n\u001b[0m\u001b[1;32m    218\u001b[0m             \u001b[0mdistance_vec\u001b[0m\u001b[0;34m=\u001b[0m\u001b[0mdistance_vec\u001b[0m\u001b[0;34m[\u001b[0m\u001b[0;36m1\u001b[0m\u001b[0;34m:\u001b[0m\u001b[0;34m]\u001b[0m\u001b[0;34m\u001b[0m\u001b[0;34m\u001b[0m\u001b[0m\n\u001b[1;32m    219\u001b[0m         \u001b[0mk_temp\u001b[0m\u001b[0;34m=\u001b[0m\u001b[0;36m1\u001b[0m\u001b[0;34m\u001b[0m\u001b[0;34m\u001b[0m\u001b[0m\n",
      "\u001b[0;31mValueError\u001b[0m: The truth value of an array with more than one element is ambiguous. Use a.any() or a.all()"
     ]
    }
   ],
   "source": [
    "# generate grid\n",
    "n_test=100\n",
    "latitude_l,latitude_u=(X_train[:,0].min(),X_train[:,0].max())\n",
    "longitude_l,longitude_u=(X_train[:,1].min(),X_train[:,1].max())\n",
    "\n",
    "X_test_1=np.linspace(latitude_l,latitude_u,n_test)\n",
    "X_test_2=np.linspace(longitude_l,longitude_u,n_test)\n",
    "axis1,axis2=np.meshgrid(X_test_1,X_test_2)\n",
    "X_test=np.array([axis1.ravel(),axis2.ravel()]).T\n",
    "\n",
    "\n",
    "## produce estimation\n",
    "# AWNN\n",
    "model_AWNN=AWNN(C=0.5).fit(X_train)\n",
    "est_AWNN=np.exp(model_AWNN.predict(X_test).reshape(-1,n_test))\n",
    "# KNN\n",
    "model_KNN=KNN(k=30).fit(X_train,method=\"BKNN\")\n",
    "est_KNN=np.exp(model_KNN.predict(X_test).reshape(-1,n_test))\n",
    "# WKNN\n",
    "model_WKNN=KNN(k=30).fit(X_train,method=\"WKNN\")\n",
    "est_WKNN=np.exp(model_WKNN.predict(X_test).reshape(-1,n_test))\n",
    "# KDE\n",
    "model_KDE=KernelDensity().fit(X_train)\n",
    "est_KDE=np.exp(model_KDE.score_samples(X_test).reshape(-1,n_test))"
   ]
  },
  {
   "cell_type": "markdown",
   "id": "8aa29c51",
   "metadata": {},
   "source": [
    "![avatar](./dataset/earthquake/seismic_rate.jpeg)"
   ]
  },
  {
   "cell_type": "code",
   "execution_count": 7,
   "id": "fca0441c",
   "metadata": {},
   "outputs": [
    {
     "data": {
      "text/plain": [
       "<matplotlib.contour.QuadContourSet at 0x7ff2904f62e0>"
      ]
     },
     "execution_count": 7,
     "metadata": {},
     "output_type": "execute_result"
    },
    {
     "data": {
      "text/plain": [
       "Text(0.5, 1.0, 'AWNN')"
      ]
     },
     "execution_count": 7,
     "metadata": {},
     "output_type": "execute_result"
    },
    {
     "data": {
      "image/png": "[encoded data removed]",
      "text/plain": [
       "<Figure size 432x288 with 1 Axes>"
      ]
     },
     "metadata": {
      "needs_background": "light"
     },
     "output_type": "display_data"
    }
   ],
   "source": [
    "# plot AWNN contour\n",
    "\n",
    "plt.contour(axis1, axis2,est_AWNN ,cmap=plt.cm.hot)\n",
    "plt.title(\"AWNN\")\n"
   ]
  },
  {
   "cell_type": "code",
   "execution_count": 8,
   "id": "2bc91f3b",
   "metadata": {},
   "outputs": [
    {
     "data": {
      "text/plain": [
       "<matplotlib.contour.QuadContourSet at 0x7ff290250730>"
      ]
     },
     "execution_count": 8,
     "metadata": {},
     "output_type": "execute_result"
    },
    {
     "data": {
      "text/plain": [
       "Text(0.5, 1.0, 'KNN')"
      ]
     },
     "execution_count": 8,
     "metadata": {},
     "output_type": "execute_result"
    },
    {
     "data": {
      "image/png": "[encoded data removed]",
      "text/plain": [
       "<Figure size 432x288 with 1 Axes>"
      ]
     },
     "metadata": {
      "needs_background": "light"
     },
     "output_type": "display_data"
    }
   ],
   "source": [
    "# plot KNN contour\n",
    "plt.contour(axis1, axis2,est_KNN ,cmap=plt.cm.hot)\n",
    "plt.title(\"KNN\")\n"
   ]
  },
  {
   "cell_type": "code",
   "execution_count": 9,
   "id": "123f6e9c",
   "metadata": {},
   "outputs": [
    {
     "data": {
      "text/plain": [
       "<matplotlib.contour.QuadContourSet at 0x7ff290437df0>"
      ]
     },
     "execution_count": 9,
     "metadata": {},
     "output_type": "execute_result"
    },
    {
     "data": {
      "text/plain": [
       "Text(0.5, 1.0, 'WKNN')"
      ]
     },
     "execution_count": 9,
     "metadata": {},
     "output_type": "execute_result"
    },
    {
     "data": {
      "image/png": "[encoded data removed]",
      "text/plain": [
       "<Figure size 432x288 with 1 Axes>"
      ]
     },
     "metadata": {
      "needs_background": "light"
     },
     "output_type": "display_data"
    }
   ],
   "source": [
    "# plot WKNN contour\n",
    "plt.contour(axis1, axis2,est_WKNN ,cmap=plt.cm.hot)\n",
    "plt.title(\"WKNN\")"
   ]
  },
  {
   "cell_type": "code",
   "execution_count": 10,
   "id": "602e5cec",
   "metadata": {},
   "outputs": [
    {
     "data": {
      "text/plain": [
       "<matplotlib.contour.QuadContourSet at 0x7ff2919d8ee0>"
      ]
     },
     "execution_count": 10,
     "metadata": {},
     "output_type": "execute_result"
    },
    {
     "data": {
      "text/plain": [
       "Text(0.5, 1.0, 'KDE')"
      ]
     },
     "execution_count": 10,
     "metadata": {},
     "output_type": "execute_result"
    },
    {
     "data": {
      "image/png": "[encoded data removed]",
      "text/plain": [
       "<Figure size 432x288 with 1 Axes>"
      ]
     },
     "metadata": {
      "needs_background": "light"
     },
     "output_type": "display_data"
    }
   ],
   "source": [
    "# plot KDE contour\n",
    "plt.contour(axis1, axis2,est_KDE ,cmap=plt.cm.hot)\n",
    "plt.title(\"KDE\")"
   ]
  },
  {
   "cell_type": "code",
   "execution_count": null,
   "id": "5970180b",
   "metadata": {},
   "outputs": [],
   "source": []
  },
  {
   "cell_type": "code",
   "execution_count": null,
   "id": "2464b852",
   "metadata": {},
   "outputs": [],
   "source": []
  },
  {
   "cell_type": "markdown",
   "id": "fdd17a8d",
   "metadata": {},
   "source": [
    "## Anomaly Detection"
   ]
  },
  {
   "cell_type": "code",
   "execution_count": 5,
   "id": "85eafe3d",
   "metadata": {},
   "outputs": [],
   "source": [
    "\n",
    "dim=8\n",
    "n_train=1000\n",
    "distribution=12\n",
    "np.random.seed(2)\n",
    "density=TestDistribution(distribution,dim).returnDistribution()\n",
    "\n",
    "X_train, pdf_X_train = density.generate(n_train)\n",
    "\n",
    "y_train=2*(pdf_X_train>np.median(pdf_X_train))-1\n"
   ]
  },
  {
   "cell_type": "code",
   "execution_count": 6,
   "id": "114ea3ff",
   "metadata": {},
   "outputs": [],
   "source": [
    "#from sklearn.model_selection import cross_val_score\n",
    "from sklearn.model_selection import KFold\n",
    "from sklearn.preprocessing import MinMaxScaler\n",
    "from sklearn.metrics import roc_auc_score"
   ]
  },
  {
   "cell_type": "code",
   "execution_count": null,
   "id": "b159cdf7",
   "metadata": {},
   "outputs": [],
   "source": []
  },
  {
   "cell_type": "code",
   "execution_count": null,
   "id": "972f6176",
   "metadata": {},
   "outputs": [],
   "source": []
  },
  {
   "cell_type": "code",
   "execution_count": 7,
   "id": "8d67c951",
   "metadata": {},
   "outputs": [
    {
     "data": {
      "text/plain": [
       "0.9478199999999999"
      ]
     },
     "execution_count": 7,
     "metadata": {},
     "output_type": "execute_result"
    }
   ],
   "source": [
    "# isolation forest \n",
    "from sklearn.ensemble import IsolationForest\n",
    "roc_auc=0\n",
    "for n_estimators in [100,300,500]:\n",
    "    model_IF=IsolationForest(random_state=1,n_estimators=n_estimators).fit(X_train,y_train)\n",
    "    scaler=MinMaxScaler()\n",
    "    y_pred=scaler.fit_transform(model_IF.decision_function(X_train).reshape(-1,1))\n",
    "    roc_auc=max(roc_auc,roc_auc_score(y_train,y_pred))\n",
    "    \n",
    "roc_auc"
   ]
  },
  {
   "cell_type": "code",
   "execution_count": null,
   "id": "a4fb3d6f",
   "metadata": {},
   "outputs": [],
   "source": []
  },
  {
   "cell_type": "code",
   "execution_count": null,
   "id": "529453ad",
   "metadata": {},
   "outputs": [],
   "source": []
  },
  {
   "cell_type": "code",
   "execution_count": 8,
   "id": "deef695b",
   "metadata": {},
   "outputs": [
    {
     "data": {
      "text/plain": [
       "0.949808"
      ]
     },
     "execution_count": 8,
     "metadata": {},
     "output_type": "execute_result"
    }
   ],
   "source": [
    "# Local outlier factor\n",
    "from sklearn.neighbors import LocalOutlierFactor\n",
    "\n",
    "roc_auc=0\n",
    "for n_neighbors in [5*i for i in range(1,11)]:\n",
    "    model_LOF=LocalOutlierFactor(n_neighbors=n_neighbors).fit(X_train,y_train)\n",
    "    scaler=MinMaxScaler()\n",
    "    y_pred=scaler.fit_transform(model_LOF.negative_outlier_factor_.reshape(-1,1))\n",
    "    roc_auc=max(roc_auc,roc_auc_score(y_train,y_pred))\n",
    "\n",
    "\n",
    "roc_auc"
   ]
  },
  {
   "cell_type": "code",
   "execution_count": null,
   "id": "c903f7f9",
   "metadata": {},
   "outputs": [],
   "source": []
  },
  {
   "cell_type": "code",
   "execution_count": 9,
   "id": "87688883",
   "metadata": {},
   "outputs": [
    {
     "data": {
      "text/plain": [
       "0.9372879999999999"
      ]
     },
     "execution_count": 9,
     "metadata": {},
     "output_type": "execute_result"
    }
   ],
   "source": [
    "# One class svm\n",
    "from sklearn.svm import OneClassSVM\n",
    "roc_auc=0\n",
    "for gamma in [1e-3,1e-2,1e-1,1,1e1]:\n",
    "    model_OCSVM=OneClassSVM(gamma=gamma).fit(X_train,y_train)\n",
    "    scaler=MinMaxScaler()\n",
    "    y_pred=scaler.fit_transform(model_OCSVM.decision_function(X_train).reshape(-1,1))\n",
    "    roc_auc=max(roc_auc,roc_auc_score(y_train,y_pred))\n",
    "\n",
    "\n",
    "roc_auc\n",
    "    "
   ]
  },
  {
   "cell_type": "code",
   "execution_count": 10,
   "id": "4ae00882",
   "metadata": {},
   "outputs": [
    {
     "data": {
      "text/plain": [
       "0.9553420000000001"
      ]
     },
     "execution_count": 10,
     "metadata": {},
     "output_type": "execute_result"
    }
   ],
   "source": [
    "# KNN\n",
    "from sklearn.neighbors import KDTree\n",
    "roc_auc=0\n",
    "tree_KNN=KDTree(X_train)\n",
    "for n_neighbors in [5*i for i in range(1,11)]:\n",
    "    distance_vec,_=tree_KNN.query(X_train,n_neighbors+1)\n",
    "    distance_vec=distance_vec[:,-1]\n",
    "    scaler=MinMaxScaler()\n",
    "    y_pred=scaler.fit_transform(-distance_vec.reshape(-1,1))\n",
    "    roc_auc=max(roc_auc,roc_auc_score(y_train,y_pred))\n",
    "\n",
    "\n",
    "roc_auc"
   ]
  },
  {
   "cell_type": "code",
   "execution_count": 11,
   "id": "41ef15e8",
   "metadata": {},
   "outputs": [
    {
     "data": {
      "text/plain": [
       "0.9560079999999999"
      ]
     },
     "execution_count": 11,
     "metadata": {},
     "output_type": "execute_result"
    }
   ],
   "source": [
    "# AWNN\n",
    "from AWNN import AWNN\n",
    "roc_auc=0\n",
    "for C in [i for i in np.logspace(-1,1,10)]:\n",
    "    model_AWNN=AWNN(C=C).fit(X_train)\n",
    "    scaler=MinMaxScaler()\n",
    "    y_pred=scaler.fit_transform(model_AWNN.predict(X_train).reshape(-1,1))\n",
    "    #print(y_pred)\n",
    "    roc_auc=max(roc_auc,roc_auc_score(y_train,y_pred))\n",
    "roc_auc"
   ]
  },
  {
   "cell_type": "code",
   "execution_count": null,
   "id": "1b5cc0f6",
   "metadata": {},
   "outputs": [],
   "source": []
  },
  {
   "cell_type": "code",
   "execution_count": 12,
   "id": "7dc9cf63",
   "metadata": {},
   "outputs": [],
   "source": [
    "import glob\n",
    "import os\n",
    "\n",
    "data_file_dir = \"./dataset/anomly/\"\n",
    "method_seq = glob.glob(\"{}/*.csv\".format(data_file_dir))\n",
    "data_file_name_seq = [os.path.split(method)[1] for method in method_seq]\n",
    "log_file_dir = \"./anomly_result/\""
   ]
  },
  {
   "cell_type": "code",
   "execution_count": null,
   "id": "374b3672",
   "metadata": {},
   "outputs": [],
   "source": []
  },
  {
   "cell_type": "code",
   "execution_count": 25,
   "id": "c12ce7f6",
   "metadata": {},
   "outputs": [],
   "source": [
    "\n",
    "def calculate_auc(X_train,y_train):\n",
    "    \n",
    "    roc_auc_vec=[]\n",
    "    \n",
    "    # IForest\n",
    "    roc_auc=0\n",
    "    for n_estimators in [100,300,500]:\n",
    "        model_IF=IsolationForest(random_state=1,n_estimators=n_estimators).fit(X_train,y_train)\n",
    "        scaler=MinMaxScaler()\n",
    "        y_pred=scaler.fit_transform(model_IF.decision_function(X_train).reshape(-1,1))\n",
    "        roc_auc=max(roc_auc,roc_auc_score(y_train,y_pred))\n",
    "    roc_auc_vec.append(roc_auc)\n",
    "    \n",
    "    # LOF\n",
    "    roc_auc=0\n",
    "    for n_neighbors in [5*i for i in range(1,11)]:\n",
    "        model_LOF=LocalOutlierFactor(n_neighbors=n_neighbors).fit(X_train,y_train)\n",
    "        scaler=MinMaxScaler()\n",
    "        y_pred=scaler.fit_transform(model_LOF.negative_outlier_factor_.reshape(-1,1))\n",
    "        roc_auc=max(roc_auc,roc_auc_score(y_train,y_pred))\n",
    "    roc_auc_vec.append(roc_auc)\n",
    "    \n",
    "    # OCSVM\n",
    "    roc_auc=0\n",
    "    for gamma in [1e-3,1e-2,1e-1,1,1e1]:\n",
    "        model_OCSVM=OneClassSVM(gamma=gamma).fit(X_train,y_train)\n",
    "        scaler=MinMaxScaler()\n",
    "        y_pred=scaler.fit_transform(model_OCSVM.decision_function(X_train).reshape(-1,1))\n",
    "        roc_auc=max(roc_auc,roc_auc_score(y_train,y_pred))\n",
    "    roc_auc_vec.append(roc_auc)\n",
    "\n",
    "    # KNN\n",
    "    roc_auc=0\n",
    "    k_save=0\n",
    "    tree_KNN=KDTree(X_train)\n",
    "    for n_neighbors in [5*i for i in range(1,11)]:\n",
    "        distance_vec,_=tree_KNN.query(X_train,n_neighbors+1)\n",
    "        distance_vec=distance_vec[:,-1]\n",
    "        scaler=MinMaxScaler()\n",
    "        y_pred=scaler.fit_transform(-distance_vec.reshape(-1,1))\n",
    "        roc_auc=max(roc_auc,roc_auc_score(y_train,y_pred))\n",
    "        if roc_auc_score(y_train,y_pred)==roc_auc:\n",
    "            k_save=n_neighbors\n",
    "    roc_auc_vec.append(roc_auc)\n",
    "\n",
    "    # AWNN\n",
    "    roc_auc=0\n",
    "    C_save=0.001\n",
    "    for C in [i for i in np.logspace(-3,2,30)]:\n",
    "        model_AWNN=AWNN(C=C).fit(X_train,max_neighbors=X_train.shape[0]-1)\n",
    "        scaler=MinMaxScaler()\n",
    "        y_pred=scaler.fit_transform(model_AWNN.predict(X_train).reshape(-1,1))\n",
    "        y_pred[y_pred==0]=1\n",
    "        roc_auc=max(roc_auc,roc_auc_score(y_train,y_pred))\n",
    "        if roc_auc_score(y_train,y_pred)==roc_auc:\n",
    "            C_save=C\n",
    "            \n",
    "    roc_auc_vec.append(roc_auc)\n",
    "    print(C_save)\n",
    "    print(k_save)\n",
    "    \n",
    "    return roc_auc_vec"
   ]
  },
  {
   "cell_type": "code",
   "execution_count": 16,
   "id": "42c0eb6d",
   "metadata": {},
   "outputs": [],
   "source": [
    "for data_file_name in data_file_name_seq:\n",
    "    data_file_path = os.path.join(data_file_dir, data_file_name)\n",
    "    data = pd.read_csv(data_file_path)\n",
    "    data = np.array(data)\n",
    "    X_train=data[:,:-1]\n",
    "    \n",
    "    y_train=data[:,-1]\n",
    "    y_train=1-2*y_train\n",
    "    #print(calculate_auc(X_train,y_train))\n",
    "    \n",
    "    \n",
    "    \n",
    "    "
   ]
  },
  {
   "cell_type": "code",
   "execution_count": 27,
   "id": "1144ba98",
   "metadata": {},
   "outputs": [
    {
     "name": "stdout",
     "output_type": "stream",
     "text": [
      "0.38566204211634725\n",
      "10\n"
     ]
    },
    {
     "data": {
      "text/plain": [
       "[0.7184095860566448,\n",
       " 0.8393246187363834,\n",
       " 0.8758169934640522,\n",
       " 0.8676470588235294,\n",
       " 0.8785403050108933]"
      ]
     },
     "execution_count": 27,
     "metadata": {},
     "output_type": "execute_result"
    }
   ],
   "source": [
    "from sklearn.decomposition import PCA\n",
    "data_file_name_seq=[\"BreastW.csv\",\"Lympho.csv\",\"glass.csv\"]\n",
    "data_file_path=os.path.join(data_file_dir, \"glass.csv\")\n",
    "data = pd.read_csv(data_file_path)\n",
    "data = np.array(data)\n",
    "X_train=data[:,:-1]\n",
    "\n",
    "\n",
    "y_train=data[:,-1]\n",
    "y_train=1-2*y_train\n",
    "calculate_auc(X_train,y_train)"
   ]
  },
  {
   "cell_type": "code",
   "execution_count": 90,
   "id": "dde4bbd4",
   "metadata": {},
   "outputs": [
    {
     "name": "stdout",
     "output_type": "stream",
     "text": [
      "0.8988754448398576\n",
      "0.8989181494661922\n",
      "0.8990320284697508\n",
      "0.8991316725978648\n",
      "0.8995017793594307\n",
      "0.9001138790035588\n",
      "0.9018362989323844\n",
      "0.90888256227758\n",
      "0.9168540925266904\n",
      "0.9430035587188613\n",
      "0.9210533807829182\n",
      "0.8091103202846975\n",
      "0.7806548042704627\n",
      "0.6796868327402135\n",
      "0.5969252669039147\n",
      "0.5243274021352313\n",
      "0.5564982206405695\n",
      "0.5267758007117438\n",
      "0.5378291814946619\n",
      "0.5448256227758007\n"
     ]
    }
   ],
   "source": [
    "roc_auc=0\n",
    "for C in [i for i in np.logspace(-3,2,20)]:\n",
    "    model_AWNN=AWNN(C=C).fit(X_train)\n",
    "    scaler=MinMaxScaler()\n",
    "    y_pred=scaler.fit_transform(model_AWNN.predict(X_train).reshape(-1,1))\n",
    "    y_pred[y_pred==0]=1\n",
    "    roc_auc=max(roc_auc,roc_auc_score(y_train,y_pred))\n",
    "    print(roc_auc_score(y_train,y_pred))"
   ]
  },
  {
   "cell_type": "code",
   "execution_count": 62,
   "id": "31be3ad5",
   "metadata": {},
   "outputs": [
    {
     "data": {
      "text/plain": [
       "(3771, 7)"
      ]
     },
     "execution_count": 62,
     "metadata": {},
     "output_type": "execute_result"
    }
   ],
   "source": [
    "data.shape"
   ]
  },
  {
   "cell_type": "code",
   "execution_count": 91,
   "id": "60437863",
   "metadata": {},
   "outputs": [
    {
     "name": "stdout",
     "output_type": "stream",
     "text": [
      "0.9748327402135232\n",
      "0.9680000000000001\n",
      "0.962661921708185\n",
      "0.9590604982206405\n",
      "0.9557580071174379\n",
      "0.9520711743772242\n",
      "0.9495800711743771\n",
      "0.9489395017793593\n",
      "0.9450960854092527\n",
      "0.9434448398576512\n"
     ]
    }
   ],
   "source": [
    "roc_auc=0\n",
    "tree_KNN=KDTree(X_train)\n",
    "for n_neighbors in [5*i for i in range(1,11)]:\n",
    "    distance_vec,_=tree_KNN.query(X_train,n_neighbors+1)\n",
    "    distance_vec=distance_vec[:,-1]\n",
    "    scaler=MinMaxScaler()\n",
    "    y_pred=scaler.fit_transform(-distance_vec.reshape(-1,1))\n",
    "    roc_auc=max(roc_auc,roc_auc_score(y_train,y_pred))\n",
    "    print(roc_auc_score(y_train,y_pred))\n"
   ]
  },
  {
   "cell_type": "code",
   "execution_count": null,
   "id": "ede4243e",
   "metadata": {},
   "outputs": [],
   "source": []
  },
  {
   "cell_type": "code",
   "execution_count": null,
   "id": "f8c10ee6",
   "metadata": {},
   "outputs": [],
   "source": []
  }
 ],
 "metadata": {
  "kernelspec": {
   "display_name": "Python 3 (ipykernel)",
   "language": "python",
   "name": "python3"
  },
  "language_info": {
   "codemirror_mode": {
    "name": "ipython",
    "version": 3
   },
   "file_extension": ".py",
   "mimetype": "text/x-python",
   "name": "python",
   "nbconvert_exporter": "python",
   "pygments_lexer": "ipython3",
   "version": "3.8.2"
  }
 },
 "nbformat": 4,
 "nbformat_minor": 5
}
